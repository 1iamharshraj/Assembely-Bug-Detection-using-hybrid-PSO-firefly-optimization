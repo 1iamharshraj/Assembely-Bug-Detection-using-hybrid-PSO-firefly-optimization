{
  "nbformat": 4,
  "nbformat_minor": 0,
  "metadata": {
    "colab": {
      "provenance": []
    },
    "kernelspec": {
      "name": "python3",
      "display_name": "Python 3"
    },
    "language_info": {
      "name": "python"
    }
  },
  "cells": [
    {
      "cell_type": "code",
      "execution_count": 13,
      "metadata": {
        "id": "_3pRwMF6sjZb"
      },
      "outputs": [],
      "source": [
        "import numpy as np\n",
        "import pandas as pd\n",
        "import tensorflow as tf\n",
        "from tensorflow import keras\n",
        "from tensorflow.keras.preprocessing.text import Tokenizer\n",
        "from tensorflow.keras.preprocessing.sequence import pad_sequences\n",
        "from sklearn.model_selection import train_test_split\n",
        "import nltk\n",
        "from imblearn.under_sampling import RandomUnderSampler\n"
      ]
    },
    {
      "cell_type": "code",
      "source": [
        "nltk.download('punkt')\n",
        "\n",
        "df = pd.read_csv(\"assembly_bug_dataset.csv\")\n",
        "\n",
        "print(df['bug'].value_counts())\n",
        "\n",
        "rus = RandomUnderSampler(random_state=42)\n",
        "df_resampled, y_resampled = rus.fit_resample(df[['code']], df['bug'])\n",
        "df_resampled['bug'] = y_resampled"
      ],
      "metadata": {
        "colab": {
          "base_uri": "https://localhost:8080/"
        },
        "id": "5X496ts2tH63",
        "outputId": "2a2f7670-1335-48b0-fb5c-52423860c71e"
      },
      "execution_count": 14,
      "outputs": [
        {
          "output_type": "stream",
          "name": "stdout",
          "text": [
            "bug\n",
            "0    526\n",
            "1    474\n",
            "Name: count, dtype: int64\n"
          ]
        },
        {
          "output_type": "stream",
          "name": "stderr",
          "text": [
            "[nltk_data] Downloading package punkt to /root/nltk_data...\n",
            "[nltk_data]   Package punkt is already up-to-date!\n"
          ]
        }
      ]
    },
    {
      "cell_type": "code",
      "source": [
        "max_vocab_size = 2000\n",
        "max_sequence_length = 75\n",
        "\n",
        "tokenizer = Tokenizer(num_words=max_vocab_size, oov_token=\"<OOV>\")\n",
        "tokenizer.fit_on_texts(df_resampled['code'])\n",
        "sequences = tokenizer.texts_to_sequences(df_resampled['code'])\n",
        "padded_sequences = pad_sequences(sequences, maxlen=max_sequence_length, padding=\"post\")\n"
      ],
      "metadata": {
        "id": "ySL0Kw8Nw4f7"
      },
      "execution_count": 15,
      "outputs": []
    },
    {
      "cell_type": "code",
      "source": [
        "def fitness(weights):\n",
        "    model = create_model(weights)\n",
        "    model.compile(loss='binary_crossentropy', metrics=['accuracy'])\n",
        "    loss, acc = model.evaluate(x_train[:1000], y_train[:1000], verbose=0)\n",
        "    return 1 / (loss + 1e-8)\n",
        "\n",
        "class PSO_FA_Optimizer:\n",
        "    def __init__(self, population_size=10, alpha=0.5, beta=1, gamma=0.97, inertia=0.5, c1=2, c2=2):\n",
        "        self.population_size = population_size\n",
        "        self.alpha = alpha\n",
        "        self.beta = beta\n",
        "        self.gamma = gamma\n",
        "        self.inertia = inertia\n",
        "        self.c1, self.c2 = c1, c2\n",
        "\n",
        "        self.population = [self.random_weights() for _ in range(population_size)]\n",
        "        self.velocities = [[np.random.randn(*w.shape) for w in p] for p in self.population]\n",
        "        self.personal_best = list(self.population)\n",
        "        self.personal_best_fitness = [fitness(w) for w in self.population]\n",
        "        self.global_best = self.population[np.argmax(self.personal_best_fitness)]\n",
        "\n",
        "    def random_weights(self):\n",
        "        model = create_model()\n",
        "        return model.get_weights()\n",
        "\n",
        "    def update_pso(self):\n",
        "        for i in range(self.population_size):\n",
        "            r1, r2 = np.random.rand(), np.random.rand()\n",
        "            inertia_component = [self.inertia * v for v in self.velocities[i]]\n",
        "            cognitive_component = self.c1 * r1 * (np.array(self.personal_best[i]) - np.array(self.population[i]))\n",
        "            social_component = self.c2 * r2 * (np.array(self.global_best) - np.array(self.population[i]))\n",
        "\n",
        "            self.velocities[i] = inertia_component + cognitive_component + social_component\n",
        "            self.population[i] = np.array(self.population[i]) + self.velocities[i]\n",
        "\n",
        "    def update_firefly(self):\n",
        "        for i in range(self.population_size):\n",
        "            for j in range(self.population_size):\n",
        "                if self.personal_best_fitness[j] > self.personal_best_fitness[i]:\n",
        "                    distance = np.linalg.norm(np.array(self.personal_best[j]) - np.array(self.personal_best[i]))\n",
        "                    attractiveness = self.beta * np.exp(-self.gamma * distance ** 2)\n",
        "                    self.population[i] += attractiveness * (np.array(self.personal_best[j]) - np.array(self.personal_best[i])) + \\\n",
        "                                          self.alpha * np.random.randn(*self.population[i].shape)\n",
        "\n",
        "    def optimize(self, iterations=10):\n",
        "        for iteration in range(iterations):\n",
        "            print(f\"Iteration {iteration + 1}/{iterations}\")\n",
        "            self.update_pso()\n",
        "            self.update_firefly()\n",
        "\n",
        "            for i in range(self.population_size):\n",
        "                new_fitness = fitness(self.population[i])\n",
        "                if new_fitness > self.personal_best_fitness[i]:\n",
        "                    self.personal_best[i] = self.population[i]\n",
        "                    self.personal_best_fitness[i] = new_fitness\n",
        "\n",
        "            self.global_best = self.population[np.argmax(self.personal_best_fitness)]\n",
        "            print(f\"Best Fitness: {max(self.personal_best_fitness)}\")\n"
      ],
      "metadata": {
        "id": "fhybh9Hc1O5L"
      },
      "execution_count": 49,
      "outputs": []
    },
    {
      "cell_type": "code",
      "source": [
        "y = df_resampled['bug'].values\n",
        "\n",
        "x_train, x_test, y_train, y_test = train_test_split(padded_sequences, y, test_size=0.2, random_state=42)\n",
        "\n",
        "def create_model(weights=None):\n",
        "    model = keras.Sequential([\n",
        "        keras.layers.Embedding(input_dim=max_vocab_size, output_dim=64, input_length=max_sequence_length),\n",
        "        keras.layers.Conv1D(filters=32, kernel_size=5, activation='relu'),\n",
        "        keras.layers.MaxPooling1D(pool_size=2),\n",
        "        keras.layers.Flatten(),\n",
        "        keras.layers.Dense(32, activation='relu'),\n",
        "        keras.layers.Dropout(0.4),\n",
        "        keras.layers.Dense(1, activation='sigmoid')\n",
        "    ])\n",
        "    if weights is not None:\n",
        "        model.set_weights(weights)\n",
        "\n",
        "    return model"
      ],
      "metadata": {
        "id": "3T-kWLaPw6mh"
      },
      "execution_count": 53,
      "outputs": []
    },
    {
      "cell_type": "markdown",
      "source": [
        "#**USING SGD OPTIMIZER**"
      ],
      "metadata": {
        "id": "MddX8_VJ1clr"
      }
    },
    {
      "cell_type": "code",
      "source": [
        "best_model = create_model()\n",
        "best_model.compile(optimizer=tf.keras.optimizers.SGD(learning_rate=0.01),\n",
        "                   loss='binary_crossentropy', metrics=['accuracy'])\n",
        "\n",
        "history =best_model.fit(x_train, y_train, epochs=50, batch_size=32, validation_split=0.2)\n",
        "\n",
        "loss,acc = best_model.evaluate(x_test, y_test, verbose=1)\n",
        "print(f\"Final Test Accuracy: {acc * 100:.2f}%\")\n"
      ],
      "metadata": {
        "colab": {
          "base_uri": "https://localhost:8080/"
        },
        "id": "dG8WvMaEw9wD",
        "outputId": "b31f80ed-546e-4544-85cb-7424fca1a87c"
      },
      "execution_count": 44,
      "outputs": [
        {
          "output_type": "stream",
          "name": "stdout",
          "text": [
            "Epoch 1/50\n",
            "\u001b[1m19/19\u001b[0m \u001b[32m━━━━━━━━━━━━━━━━━━━━\u001b[0m\u001b[37m\u001b[0m \u001b[1m2s\u001b[0m 28ms/step - accuracy: 0.4918 - loss: 0.6929 - val_accuracy: 0.5789 - val_loss: 0.6916\n",
            "Epoch 2/50\n",
            "\u001b[1m19/19\u001b[0m \u001b[32m━━━━━━━━━━━━━━━━━━━━\u001b[0m\u001b[37m\u001b[0m \u001b[1m0s\u001b[0m 14ms/step - accuracy: 0.5559 - loss: 0.6919 - val_accuracy: 0.6645 - val_loss: 0.6913\n",
            "Epoch 3/50\n",
            "\u001b[1m19/19\u001b[0m \u001b[32m━━━━━━━━━━━━━━━━━━━━\u001b[0m\u001b[37m\u001b[0m \u001b[1m0s\u001b[0m 16ms/step - accuracy: 0.5020 - loss: 0.6924 - val_accuracy: 0.6711 - val_loss: 0.6911\n",
            "Epoch 4/50\n",
            "\u001b[1m19/19\u001b[0m \u001b[32m━━━━━━━━━━━━━━━━━━━━\u001b[0m\u001b[37m\u001b[0m \u001b[1m1s\u001b[0m 14ms/step - accuracy: 0.5594 - loss: 0.6911 - val_accuracy: 0.6184 - val_loss: 0.6908\n",
            "Epoch 5/50\n",
            "\u001b[1m19/19\u001b[0m \u001b[32m━━━━━━━━━━━━━━━━━━━━\u001b[0m\u001b[37m\u001b[0m \u001b[1m0s\u001b[0m 14ms/step - accuracy: 0.5358 - loss: 0.6916 - val_accuracy: 0.6711 - val_loss: 0.6904\n",
            "Epoch 6/50\n",
            "\u001b[1m19/19\u001b[0m \u001b[32m━━━━━━━━━━━━━━━━━━━━\u001b[0m\u001b[37m\u001b[0m \u001b[1m0s\u001b[0m 14ms/step - accuracy: 0.6052 - loss: 0.6892 - val_accuracy: 0.6579 - val_loss: 0.6900\n",
            "Epoch 7/50\n",
            "\u001b[1m19/19\u001b[0m \u001b[32m━━━━━━━━━━━━━━━━━━━━\u001b[0m\u001b[37m\u001b[0m \u001b[1m0s\u001b[0m 14ms/step - accuracy: 0.5734 - loss: 0.6899 - val_accuracy: 0.5395 - val_loss: 0.6898\n",
            "Epoch 8/50\n",
            "\u001b[1m19/19\u001b[0m \u001b[32m━━━━━━━━━━━━━━━━━━━━\u001b[0m\u001b[37m\u001b[0m \u001b[1m0s\u001b[0m 15ms/step - accuracy: 0.5396 - loss: 0.6910 - val_accuracy: 0.5197 - val_loss: 0.6896\n",
            "Epoch 9/50\n",
            "\u001b[1m19/19\u001b[0m \u001b[32m━━━━━━━━━━━━━━━━━━━━\u001b[0m\u001b[37m\u001b[0m \u001b[1m0s\u001b[0m 14ms/step - accuracy: 0.6207 - loss: 0.6884 - val_accuracy: 0.5197 - val_loss: 0.6891\n",
            "Epoch 10/50\n",
            "\u001b[1m19/19\u001b[0m \u001b[32m━━━━━━━━━━━━━━━━━━━━\u001b[0m\u001b[37m\u001b[0m \u001b[1m0s\u001b[0m 15ms/step - accuracy: 0.5816 - loss: 0.6902 - val_accuracy: 0.5197 - val_loss: 0.6889\n",
            "Epoch 11/50\n",
            "\u001b[1m19/19\u001b[0m \u001b[32m━━━━━━━━━━━━━━━━━━━━\u001b[0m\u001b[37m\u001b[0m \u001b[1m0s\u001b[0m 14ms/step - accuracy: 0.5952 - loss: 0.6882 - val_accuracy: 0.5724 - val_loss: 0.6881\n",
            "Epoch 12/50\n",
            "\u001b[1m19/19\u001b[0m \u001b[32m━━━━━━━━━━━━━━━━━━━━\u001b[0m\u001b[37m\u001b[0m \u001b[1m0s\u001b[0m 14ms/step - accuracy: 0.6292 - loss: 0.6869 - val_accuracy: 0.5395 - val_loss: 0.6877\n",
            "Epoch 13/50\n",
            "\u001b[1m19/19\u001b[0m \u001b[32m━━━━━━━━━━━━━━━━━━━━\u001b[0m\u001b[37m\u001b[0m \u001b[1m0s\u001b[0m 14ms/step - accuracy: 0.6206 - loss: 0.6866 - val_accuracy: 0.6513 - val_loss: 0.6871\n",
            "Epoch 14/50\n",
            "\u001b[1m19/19\u001b[0m \u001b[32m━━━━━━━━━━━━━━━━━━━━\u001b[0m\u001b[37m\u001b[0m \u001b[1m0s\u001b[0m 13ms/step - accuracy: 0.6745 - loss: 0.6856 - val_accuracy: 0.6776 - val_loss: 0.6866\n",
            "Epoch 15/50\n",
            "\u001b[1m19/19\u001b[0m \u001b[32m━━━━━━━━━━━━━━━━━━━━\u001b[0m\u001b[37m\u001b[0m \u001b[1m0s\u001b[0m 21ms/step - accuracy: 0.6514 - loss: 0.6865 - val_accuracy: 0.7105 - val_loss: 0.6860\n",
            "Epoch 16/50\n",
            "\u001b[1m19/19\u001b[0m \u001b[32m━━━━━━━━━━━━━━━━━━━━\u001b[0m\u001b[37m\u001b[0m \u001b[1m1s\u001b[0m 21ms/step - accuracy: 0.5938 - loss: 0.6861 - val_accuracy: 0.8487 - val_loss: 0.6853\n",
            "Epoch 17/50\n",
            "\u001b[1m19/19\u001b[0m \u001b[32m━━━━━━━━━━━━━━━━━━━━\u001b[0m\u001b[37m\u001b[0m \u001b[1m0s\u001b[0m 21ms/step - accuracy: 0.7097 - loss: 0.6840 - val_accuracy: 0.7434 - val_loss: 0.6850\n",
            "Epoch 18/50\n",
            "\u001b[1m19/19\u001b[0m \u001b[32m━━━━━━━━━━━━━━━━━━━━\u001b[0m\u001b[37m\u001b[0m \u001b[1m0s\u001b[0m 22ms/step - accuracy: 0.6322 - loss: 0.6836 - val_accuracy: 0.7829 - val_loss: 0.6843\n",
            "Epoch 19/50\n",
            "\u001b[1m19/19\u001b[0m \u001b[32m━━━━━━━━━━━━━━━━━━━━\u001b[0m\u001b[37m\u001b[0m \u001b[1m1s\u001b[0m 21ms/step - accuracy: 0.6486 - loss: 0.6845 - val_accuracy: 0.8158 - val_loss: 0.6837\n",
            "Epoch 20/50\n",
            "\u001b[1m19/19\u001b[0m \u001b[32m━━━━━━━━━━━━━━━━━━━━\u001b[0m\u001b[37m\u001b[0m \u001b[1m0s\u001b[0m 13ms/step - accuracy: 0.7064 - loss: 0.6835 - val_accuracy: 0.8026 - val_loss: 0.6831\n",
            "Epoch 21/50\n",
            "\u001b[1m19/19\u001b[0m \u001b[32m━━━━━━━━━━━━━━━━━━━━\u001b[0m\u001b[37m\u001b[0m \u001b[1m0s\u001b[0m 13ms/step - accuracy: 0.6886 - loss: 0.6834 - val_accuracy: 0.7895 - val_loss: 0.6825\n",
            "Epoch 22/50\n",
            "\u001b[1m19/19\u001b[0m \u001b[32m━━━━━━━━━━━━━━━━━━━━\u001b[0m\u001b[37m\u001b[0m \u001b[1m0s\u001b[0m 15ms/step - accuracy: 0.7283 - loss: 0.6809 - val_accuracy: 0.8487 - val_loss: 0.6816\n",
            "Epoch 23/50\n",
            "\u001b[1m19/19\u001b[0m \u001b[32m━━━━━━━━━━━━━━━━━━━━\u001b[0m\u001b[37m\u001b[0m \u001b[1m1s\u001b[0m 13ms/step - accuracy: 0.7136 - loss: 0.6817 - val_accuracy: 0.7895 - val_loss: 0.6811\n",
            "Epoch 24/50\n",
            "\u001b[1m19/19\u001b[0m \u001b[32m━━━━━━━━━━━━━━━━━━━━\u001b[0m\u001b[37m\u001b[0m \u001b[1m0s\u001b[0m 14ms/step - accuracy: 0.7294 - loss: 0.6798 - val_accuracy: 0.7697 - val_loss: 0.6805\n",
            "Epoch 25/50\n",
            "\u001b[1m19/19\u001b[0m \u001b[32m━━━━━━━━━━━━━━━━━━━━\u001b[0m\u001b[37m\u001b[0m \u001b[1m0s\u001b[0m 14ms/step - accuracy: 0.7179 - loss: 0.6789 - val_accuracy: 0.7697 - val_loss: 0.6798\n",
            "Epoch 26/50\n",
            "\u001b[1m19/19\u001b[0m \u001b[32m━━━━━━━━━━━━━━━━━━━━\u001b[0m\u001b[37m\u001b[0m \u001b[1m0s\u001b[0m 13ms/step - accuracy: 0.7553 - loss: 0.6778 - val_accuracy: 0.8618 - val_loss: 0.6788\n",
            "Epoch 27/50\n",
            "\u001b[1m19/19\u001b[0m \u001b[32m━━━━━━━━━━━━━━━━━━━━\u001b[0m\u001b[37m\u001b[0m \u001b[1m0s\u001b[0m 15ms/step - accuracy: 0.7044 - loss: 0.6786 - val_accuracy: 0.8158 - val_loss: 0.6781\n",
            "Epoch 28/50\n",
            "\u001b[1m19/19\u001b[0m \u001b[32m━━━━━━━━━━━━━━━━━━━━\u001b[0m\u001b[37m\u001b[0m \u001b[1m0s\u001b[0m 13ms/step - accuracy: 0.7555 - loss: 0.6785 - val_accuracy: 0.7763 - val_loss: 0.6774\n",
            "Epoch 29/50\n",
            "\u001b[1m19/19\u001b[0m \u001b[32m━━━━━━━━━━━━━━━━━━━━\u001b[0m\u001b[37m\u001b[0m \u001b[1m0s\u001b[0m 14ms/step - accuracy: 0.7233 - loss: 0.6790 - val_accuracy: 0.7763 - val_loss: 0.6767\n",
            "Epoch 30/50\n",
            "\u001b[1m19/19\u001b[0m \u001b[32m━━━━━━━━━━━━━━━━━━━━\u001b[0m\u001b[37m\u001b[0m \u001b[1m0s\u001b[0m 13ms/step - accuracy: 0.7616 - loss: 0.6768 - val_accuracy: 0.7763 - val_loss: 0.6757\n",
            "Epoch 31/50\n",
            "\u001b[1m19/19\u001b[0m \u001b[32m━━━━━━━━━━━━━━━━━━━━\u001b[0m\u001b[37m\u001b[0m \u001b[1m0s\u001b[0m 15ms/step - accuracy: 0.7516 - loss: 0.6741 - val_accuracy: 0.8816 - val_loss: 0.6743\n",
            "Epoch 32/50\n",
            "\u001b[1m19/19\u001b[0m \u001b[32m━━━━━━━━━━━━━━━━━━━━\u001b[0m\u001b[37m\u001b[0m \u001b[1m0s\u001b[0m 14ms/step - accuracy: 0.7742 - loss: 0.6754 - val_accuracy: 0.7566 - val_loss: 0.6743\n",
            "Epoch 33/50\n",
            "\u001b[1m19/19\u001b[0m \u001b[32m━━━━━━━━━━━━━━━━━━━━\u001b[0m\u001b[37m\u001b[0m \u001b[1m0s\u001b[0m 13ms/step - accuracy: 0.7459 - loss: 0.6755 - val_accuracy: 0.8158 - val_loss: 0.6726\n",
            "Epoch 34/50\n",
            "\u001b[1m19/19\u001b[0m \u001b[32m━━━━━━━━━━━━━━━━━━━━\u001b[0m\u001b[37m\u001b[0m \u001b[1m0s\u001b[0m 13ms/step - accuracy: 0.7417 - loss: 0.6739 - val_accuracy: 0.8158 - val_loss: 0.6716\n",
            "Epoch 35/50\n",
            "\u001b[1m19/19\u001b[0m \u001b[32m━━━━━━━━━━━━━━━━━━━━\u001b[0m\u001b[37m\u001b[0m \u001b[1m0s\u001b[0m 13ms/step - accuracy: 0.7659 - loss: 0.6692 - val_accuracy: 0.8553 - val_loss: 0.6697\n",
            "Epoch 36/50\n",
            "\u001b[1m19/19\u001b[0m \u001b[32m━━━━━━━━━━━━━━━━━━━━\u001b[0m\u001b[37m\u001b[0m \u001b[1m0s\u001b[0m 13ms/step - accuracy: 0.7665 - loss: 0.6685 - val_accuracy: 0.8553 - val_loss: 0.6684\n",
            "Epoch 37/50\n",
            "\u001b[1m19/19\u001b[0m \u001b[32m━━━━━━━━━━━━━━━━━━━━\u001b[0m\u001b[37m\u001b[0m \u001b[1m0s\u001b[0m 12ms/step - accuracy: 0.7513 - loss: 0.6687 - val_accuracy: 0.8816 - val_loss: 0.6673\n",
            "Epoch 38/50\n",
            "\u001b[1m19/19\u001b[0m \u001b[32m━━━━━━━━━━━━━━━━━━━━\u001b[0m\u001b[37m\u001b[0m \u001b[1m0s\u001b[0m 15ms/step - accuracy: 0.7757 - loss: 0.6683 - val_accuracy: 0.8553 - val_loss: 0.6655\n",
            "Epoch 39/50\n",
            "\u001b[1m19/19\u001b[0m \u001b[32m━━━━━━━━━━━━━━━━━━━━\u001b[0m\u001b[37m\u001b[0m \u001b[1m0s\u001b[0m 13ms/step - accuracy: 0.8077 - loss: 0.6660 - val_accuracy: 0.8553 - val_loss: 0.6641\n",
            "Epoch 40/50\n",
            "\u001b[1m19/19\u001b[0m \u001b[32m━━━━━━━━━━━━━━━━━━━━\u001b[0m\u001b[37m\u001b[0m \u001b[1m0s\u001b[0m 13ms/step - accuracy: 0.8109 - loss: 0.6649 - val_accuracy: 0.8816 - val_loss: 0.6625\n",
            "Epoch 41/50\n",
            "\u001b[1m19/19\u001b[0m \u001b[32m━━━━━━━━━━━━━━━━━━━━\u001b[0m\u001b[37m\u001b[0m \u001b[1m0s\u001b[0m 14ms/step - accuracy: 0.8071 - loss: 0.6655 - val_accuracy: 0.8816 - val_loss: 0.6610\n",
            "Epoch 42/50\n",
            "\u001b[1m19/19\u001b[0m \u001b[32m━━━━━━━━━━━━━━━━━━━━\u001b[0m\u001b[37m\u001b[0m \u001b[1m0s\u001b[0m 15ms/step - accuracy: 0.8282 - loss: 0.6579 - val_accuracy: 0.8553 - val_loss: 0.6587\n",
            "Epoch 43/50\n",
            "\u001b[1m19/19\u001b[0m \u001b[32m━━━━━━━━━━━━━━━━━━━━\u001b[0m\u001b[37m\u001b[0m \u001b[1m1s\u001b[0m 13ms/step - accuracy: 0.7961 - loss: 0.6596 - val_accuracy: 0.8553 - val_loss: 0.6568\n",
            "Epoch 44/50\n",
            "\u001b[1m19/19\u001b[0m \u001b[32m━━━━━━━━━━━━━━━━━━━━\u001b[0m\u001b[37m\u001b[0m \u001b[1m0s\u001b[0m 17ms/step - accuracy: 0.8449 - loss: 0.6548 - val_accuracy: 0.8487 - val_loss: 0.6548\n",
            "Epoch 45/50\n",
            "\u001b[1m19/19\u001b[0m \u001b[32m━━━━━━━━━━━━━━━━━━━━\u001b[0m\u001b[37m\u001b[0m \u001b[1m1s\u001b[0m 13ms/step - accuracy: 0.8495 - loss: 0.6541 - val_accuracy: 0.8553 - val_loss: 0.6522\n",
            "Epoch 46/50\n",
            "\u001b[1m19/19\u001b[0m \u001b[32m━━━━━━━━━━━━━━━━━━━━\u001b[0m\u001b[37m\u001b[0m \u001b[1m0s\u001b[0m 14ms/step - accuracy: 0.8178 - loss: 0.6530 - val_accuracy: 0.8487 - val_loss: 0.6503\n",
            "Epoch 47/50\n",
            "\u001b[1m19/19\u001b[0m \u001b[32m━━━━━━━━━━━━━━━━━━━━\u001b[0m\u001b[37m\u001b[0m \u001b[1m0s\u001b[0m 15ms/step - accuracy: 0.8090 - loss: 0.6520 - val_accuracy: 0.8882 - val_loss: 0.6480\n",
            "Epoch 48/50\n",
            "\u001b[1m19/19\u001b[0m \u001b[32m━━━━━━━━━━━━━━━━━━━━\u001b[0m\u001b[37m\u001b[0m \u001b[1m0s\u001b[0m 13ms/step - accuracy: 0.8344 - loss: 0.6469 - val_accuracy: 0.8553 - val_loss: 0.6446\n",
            "Epoch 49/50\n",
            "\u001b[1m19/19\u001b[0m \u001b[32m━━━━━━━━━━━━━━━━━━━━\u001b[0m\u001b[37m\u001b[0m \u001b[1m0s\u001b[0m 14ms/step - accuracy: 0.8260 - loss: 0.6417 - val_accuracy: 0.8553 - val_loss: 0.6416\n",
            "Epoch 50/50\n",
            "\u001b[1m19/19\u001b[0m \u001b[32m━━━━━━━━━━━━━━━━━━━━\u001b[0m\u001b[37m\u001b[0m \u001b[1m0s\u001b[0m 20ms/step - accuracy: 0.8096 - loss: 0.6437 - val_accuracy: 0.8553 - val_loss: 0.6380\n",
            "\u001b[1m6/6\u001b[0m \u001b[32m━━━━━━━━━━━━━━━━━━━━\u001b[0m\u001b[37m\u001b[0m \u001b[1m0s\u001b[0m 11ms/step - accuracy: 0.8174 - loss: 0.6441\n",
            "Final Test Accuracy: 84.21%\n"
          ]
        }
      ]
    },
    {
      "cell_type": "code",
      "source": [
        "import matplotlib.pyplot as plt\n",
        "import numpy as np\n",
        "\n",
        "epochs = range(len(history.history['accuracy']))\n",
        "\n",
        "plt.plot(epochs, history.history['accuracy'], label='Accuracy')\n",
        "\n",
        "plt.xlabel('Epochs')\n",
        "plt.ylabel('Accuracy')\n",
        "plt.legend()\n",
        "plt.title('Model Accuracy with just SGD')\n",
        "\n",
        "# Set y-axis to start from 0.85\n",
        "plt.ylim(0, 1.01)  # Assuming max accuracy is 1.0\n",
        "plt.xlim(-1,50)\n",
        "\n",
        "plt.show()\n"
      ],
      "metadata": {
        "colab": {
          "base_uri": "https://localhost:8080/",
          "height": 472
        },
        "id": "tHb7D9xqxV5O",
        "outputId": "3d2d395b-cb28-4526-85b2-5c807bd14ed5"
      },
      "execution_count": 46,
      "outputs": [
        {
          "output_type": "display_data",
          "data": {
            "text/plain": [
              "<Figure size 640x480 with 1 Axes>"
            ],
            "image/png": "[encoded data removed]"
          },
          "metadata": {}
        }
      ]
    },
    {
      "cell_type": "markdown",
      "source": [
        "# **USING ADAM OPTIMIZER**"
      ],
      "metadata": {
        "id": "EaWGzdj91kPC"
      }
    },
    {
      "cell_type": "code",
      "source": [
        "best_model = create_model()\n",
        "\n",
        "adam = tf.keras.optimizers.Adam(learning_rate=0.1)\n",
        "\n",
        "best_model.compile(optimizer=adam,\n",
        "                   loss='binary_crossentropy',\n",
        "                   metrics=['accuracy'])\n",
        "\n",
        "history = best_model.fit(x_train, y_train,\n",
        "                         epochs=50, batch_size=4,\n",
        "                         validation_split=0.2)\n",
        "\n",
        "loss, acc = best_model.evaluate(x_test, y_test, verbose=1)\n",
        "print(f\"Final Test Accuracy: {acc * 100:.2f}%\")\n"
      ],
      "metadata": {
        "colab": {
          "base_uri": "https://localhost:8080/"
        },
        "id": "v2RcosB9xg4C",
        "outputId": "a0ad2bff-71dd-4010-bc94-fd339ea49358"
      },
      "execution_count": 47,
      "outputs": [
        {
          "output_type": "stream",
          "name": "stdout",
          "text": [
            "Epoch 1/50\n"
          ]
        },
        {
          "output_type": "stream",
          "name": "stderr",
          "text": [
            "/usr/local/lib/python3.11/dist-packages/keras/src/layers/core/embedding.py:90: UserWarning: Argument `input_length` is deprecated. Just remove it.\n",
            "  warnings.warn(\n"
          ]
        },
        {
          "output_type": "stream",
          "name": "stdout",
          "text": [
            "\u001b[1m152/152\u001b[0m \u001b[32m━━━━━━━━━━━━━━━━━━━━\u001b[0m\u001b[37m\u001b[0m \u001b[1m4s\u001b[0m 7ms/step - accuracy: 0.4939 - loss: 23.7862 - val_accuracy: 0.5066 - val_loss: 0.6847\n",
            "Epoch 2/50\n",
            "\u001b[1m152/152\u001b[0m \u001b[32m━━━━━━━━━━━━━━━━━━━━\u001b[0m\u001b[37m\u001b[0m \u001b[1m2s\u001b[0m 15ms/step - accuracy: 0.5134 - loss: 0.6934 - val_accuracy: 0.6974 - val_loss: 0.5284\n",
            "Epoch 3/50\n",
            "\u001b[1m152/152\u001b[0m \u001b[32m━━━━━━━━━━━━━━━━━━━━\u001b[0m\u001b[37m\u001b[0m \u001b[1m2s\u001b[0m 12ms/step - accuracy: 0.6988 - loss: 0.8032 - val_accuracy: 0.5066 - val_loss: 0.6715\n",
            "Epoch 4/50\n",
            "\u001b[1m152/152\u001b[0m \u001b[32m━━━━━━━━━━━━━━━━━━━━\u001b[0m\u001b[37m\u001b[0m \u001b[1m3s\u001b[0m 12ms/step - accuracy: 0.5332 - loss: 1.3942 - val_accuracy: 0.6645 - val_loss: 0.5483\n",
            "Epoch 5/50\n",
            "\u001b[1m152/152\u001b[0m \u001b[32m━━━━━━━━━━━━━━━━━━━━\u001b[0m\u001b[37m\u001b[0m \u001b[1m2s\u001b[0m 11ms/step - accuracy: 0.5515 - loss: 0.6796 - val_accuracy: 0.5263 - val_loss: 0.6919\n",
            "Epoch 6/50\n",
            "\u001b[1m152/152\u001b[0m \u001b[32m━━━━━━━━━━━━━━━━━━━━\u001b[0m\u001b[37m\u001b[0m \u001b[1m2s\u001b[0m 9ms/step - accuracy: 0.5159 - loss: 0.6987 - val_accuracy: 0.5263 - val_loss: 0.6918\n",
            "Epoch 7/50\n",
            "\u001b[1m152/152\u001b[0m \u001b[32m━━━━━━━━━━━━━━━━━━━━\u001b[0m\u001b[37m\u001b[0m \u001b[1m3s\u001b[0m 12ms/step - accuracy: 0.4960 - loss: 0.6978 - val_accuracy: 0.4737 - val_loss: 0.7043\n",
            "Epoch 8/50\n",
            "\u001b[1m152/152\u001b[0m \u001b[32m━━━━━━━━━━━━━━━━━━━━\u001b[0m\u001b[37m\u001b[0m \u001b[1m2s\u001b[0m 11ms/step - accuracy: 0.5214 - loss: 0.6957 - val_accuracy: 0.4737 - val_loss: 0.6971\n",
            "Epoch 9/50\n",
            "\u001b[1m152/152\u001b[0m \u001b[32m━━━━━━━━━━━━━━━━━━━━\u001b[0m\u001b[37m\u001b[0m \u001b[1m2s\u001b[0m 6ms/step - accuracy: 0.5530 - loss: 0.7047 - val_accuracy: 0.5263 - val_loss: 0.6927\n",
            "Epoch 10/50\n",
            "\u001b[1m152/152\u001b[0m \u001b[32m━━━━━━━━━━━━━━━━━━━━\u001b[0m\u001b[37m\u001b[0m \u001b[1m2s\u001b[0m 8ms/step - accuracy: 0.5315 - loss: 0.6975 - val_accuracy: 0.5263 - val_loss: 0.6965\n",
            "Epoch 11/50\n",
            "\u001b[1m152/152\u001b[0m \u001b[32m━━━━━━━━━━━━━━━━━━━━\u001b[0m\u001b[37m\u001b[0m \u001b[1m2s\u001b[0m 10ms/step - accuracy: 0.4963 - loss: 0.7026 - val_accuracy: 0.4737 - val_loss: 0.6990\n",
            "Epoch 12/50\n",
            "\u001b[1m152/152\u001b[0m \u001b[32m━━━━━━━━━━━━━━━━━━━━\u001b[0m\u001b[37m\u001b[0m \u001b[1m3s\u001b[0m 12ms/step - accuracy: 0.5021 - loss: 0.7026 - val_accuracy: 0.4737 - val_loss: 0.6934\n",
            "Epoch 13/50\n",
            "\u001b[1m152/152\u001b[0m \u001b[32m━━━━━━━━━━━━━━━━━━━━\u001b[0m\u001b[37m\u001b[0m \u001b[1m2s\u001b[0m 13ms/step - accuracy: 0.5163 - loss: 0.7103 - val_accuracy: 0.5263 - val_loss: 0.6928\n",
            "Epoch 14/50\n",
            "\u001b[1m152/152\u001b[0m \u001b[32m━━━━━━━━━━━━━━━━━━━━\u001b[0m\u001b[37m\u001b[0m \u001b[1m2s\u001b[0m 13ms/step - accuracy: 0.4691 - loss: 0.6972 - val_accuracy: 0.4737 - val_loss: 0.7114\n",
            "Epoch 15/50\n",
            "\u001b[1m152/152\u001b[0m \u001b[32m━━━━━━━━━━━━━━━━━━━━\u001b[0m\u001b[37m\u001b[0m \u001b[1m2s\u001b[0m 15ms/step - accuracy: 0.5467 - loss: 0.6935 - val_accuracy: 0.5263 - val_loss: 0.6924\n",
            "Epoch 16/50\n",
            "\u001b[1m152/152\u001b[0m \u001b[32m━━━━━━━━━━━━━━━━━━━━\u001b[0m\u001b[37m\u001b[0m \u001b[1m1s\u001b[0m 8ms/step - accuracy: 0.5032 - loss: 0.7034 - val_accuracy: 0.4737 - val_loss: 0.6958\n",
            "Epoch 17/50\n",
            "\u001b[1m152/152\u001b[0m \u001b[32m━━━━━━━━━━━━━━━━━━━━\u001b[0m\u001b[37m\u001b[0m \u001b[1m1s\u001b[0m 7ms/step - accuracy: 0.5338 - loss: 0.6961 - val_accuracy: 0.4737 - val_loss: 0.6934\n",
            "Epoch 18/50\n",
            "\u001b[1m152/152\u001b[0m \u001b[32m━━━━━━━━━━━━━━━━━━━━\u001b[0m\u001b[37m\u001b[0m \u001b[1m1s\u001b[0m 6ms/step - accuracy: 0.5154 - loss: 0.6958 - val_accuracy: 0.4737 - val_loss: 0.6941\n",
            "Epoch 19/50\n",
            "\u001b[1m152/152\u001b[0m \u001b[32m━━━━━━━━━━━━━━━━━━━━\u001b[0m\u001b[37m\u001b[0m \u001b[1m2s\u001b[0m 8ms/step - accuracy: 0.4919 - loss: 0.6973 - val_accuracy: 0.4737 - val_loss: 0.7490\n",
            "Epoch 20/50\n",
            "\u001b[1m152/152\u001b[0m \u001b[32m━━━━━━━━━━━━━━━━━━━━\u001b[0m\u001b[37m\u001b[0m \u001b[1m2s\u001b[0m 12ms/step - accuracy: 0.5426 - loss: 0.7060 - val_accuracy: 0.5263 - val_loss: 0.6925\n",
            "Epoch 21/50\n",
            "\u001b[1m152/152\u001b[0m \u001b[32m━━━━━━━━━━━━━━━━━━━━\u001b[0m\u001b[37m\u001b[0m \u001b[1m2s\u001b[0m 6ms/step - accuracy: 0.5019 - loss: 0.6965 - val_accuracy: 0.5263 - val_loss: 0.6925\n",
            "Epoch 22/50\n",
            "\u001b[1m152/152\u001b[0m \u001b[32m━━━━━━━━━━━━━━━━━━━━\u001b[0m\u001b[37m\u001b[0m \u001b[1m2s\u001b[0m 10ms/step - accuracy: 0.4799 - loss: 0.6979 - val_accuracy: 0.4737 - val_loss: 0.7030\n",
            "Epoch 23/50\n",
            "\u001b[1m152/152\u001b[0m \u001b[32m━━━━━━━━━━━━━━━━━━━━\u001b[0m\u001b[37m\u001b[0m \u001b[1m2s\u001b[0m 10ms/step - accuracy: 0.4713 - loss: 0.7025 - val_accuracy: 0.4737 - val_loss: 0.6948\n",
            "Epoch 24/50\n",
            "\u001b[1m152/152\u001b[0m \u001b[32m━━━━━━━━━━━━━━━━━━━━\u001b[0m\u001b[37m\u001b[0m \u001b[1m2s\u001b[0m 7ms/step - accuracy: 0.5113 - loss: 0.6973 - val_accuracy: 0.4737 - val_loss: 0.7043\n",
            "Epoch 25/50\n",
            "\u001b[1m152/152\u001b[0m \u001b[32m━━━━━━━━━━━━━━━━━━━━\u001b[0m\u001b[37m\u001b[0m \u001b[1m1s\u001b[0m 8ms/step - accuracy: 0.5092 - loss: 0.6953 - val_accuracy: 0.5263 - val_loss: 0.6919\n",
            "Epoch 26/50\n",
            "\u001b[1m152/152\u001b[0m \u001b[32m━━━━━━━━━━━━━━━━━━━━\u001b[0m\u001b[37m\u001b[0m \u001b[1m1s\u001b[0m 7ms/step - accuracy: 0.5275 - loss: 0.6944 - val_accuracy: 0.4737 - val_loss: 0.6960\n",
            "Epoch 27/50\n",
            "\u001b[1m152/152\u001b[0m \u001b[32m━━━━━━━━━━━━━━━━━━━━\u001b[0m\u001b[37m\u001b[0m \u001b[1m1s\u001b[0m 7ms/step - accuracy: 0.5259 - loss: 0.6950 - val_accuracy: 0.5263 - val_loss: 0.6928\n",
            "Epoch 28/50\n",
            "\u001b[1m152/152\u001b[0m \u001b[32m━━━━━━━━━━━━━━━━━━━━\u001b[0m\u001b[37m\u001b[0m \u001b[1m1s\u001b[0m 7ms/step - accuracy: 0.5064 - loss: 0.6986 - val_accuracy: 0.4737 - val_loss: 0.6989\n",
            "Epoch 29/50\n",
            "\u001b[1m152/152\u001b[0m \u001b[32m━━━━━━━━━━━━━━━━━━━━\u001b[0m\u001b[37m\u001b[0m \u001b[1m1s\u001b[0m 7ms/step - accuracy: 0.5244 - loss: 0.6989 - val_accuracy: 0.5263 - val_loss: 0.6929\n",
            "Epoch 30/50\n",
            "\u001b[1m152/152\u001b[0m \u001b[32m━━━━━━━━━━━━━━━━━━━━\u001b[0m\u001b[37m\u001b[0m \u001b[1m1s\u001b[0m 7ms/step - accuracy: 0.4971 - loss: 0.7011 - val_accuracy: 0.5263 - val_loss: 0.6925\n",
            "Epoch 31/50\n",
            "\u001b[1m152/152\u001b[0m \u001b[32m━━━━━━━━━━━━━━━━━━━━\u001b[0m\u001b[37m\u001b[0m \u001b[1m2s\u001b[0m 10ms/step - accuracy: 0.4493 - loss: 0.6999 - val_accuracy: 0.5263 - val_loss: 0.6925\n",
            "Epoch 32/50\n",
            "\u001b[1m152/152\u001b[0m \u001b[32m━━━━━━━━━━━━━━━━━━━━\u001b[0m\u001b[37m\u001b[0m \u001b[1m2s\u001b[0m 11ms/step - accuracy: 0.4502 - loss: 0.6967 - val_accuracy: 0.4737 - val_loss: 0.6961\n",
            "Epoch 33/50\n",
            "\u001b[1m152/152\u001b[0m \u001b[32m━━━━━━━━━━━━━━━━━━━━\u001b[0m\u001b[37m\u001b[0m \u001b[1m1s\u001b[0m 6ms/step - accuracy: 0.4878 - loss: 0.6982 - val_accuracy: 0.5263 - val_loss: 0.6920\n",
            "Epoch 34/50\n",
            "\u001b[1m152/152\u001b[0m \u001b[32m━━━━━━━━━━━━━━━━━━━━\u001b[0m\u001b[37m\u001b[0m \u001b[1m2s\u001b[0m 9ms/step - accuracy: 0.4743 - loss: 0.6995 - val_accuracy: 0.4737 - val_loss: 0.7069\n",
            "Epoch 35/50\n",
            "\u001b[1m152/152\u001b[0m \u001b[32m━━━━━━━━━━━━━━━━━━━━\u001b[0m\u001b[37m\u001b[0m \u001b[1m1s\u001b[0m 7ms/step - accuracy: 0.4742 - loss: 0.7031 - val_accuracy: 0.5263 - val_loss: 0.6918\n",
            "Epoch 36/50\n",
            "\u001b[1m152/152\u001b[0m \u001b[32m━━━━━━━━━━━━━━━━━━━━\u001b[0m\u001b[37m\u001b[0m \u001b[1m1s\u001b[0m 6ms/step - accuracy: 0.5417 - loss: 0.6944 - val_accuracy: 0.5263 - val_loss: 0.6927\n",
            "Epoch 37/50\n",
            "\u001b[1m152/152\u001b[0m \u001b[32m━━━━━━━━━━━━━━━━━━━━\u001b[0m\u001b[37m\u001b[0m \u001b[1m1s\u001b[0m 6ms/step - accuracy: 0.4998 - loss: 0.7021 - val_accuracy: 0.5263 - val_loss: 0.6928\n",
            "Epoch 38/50\n",
            "\u001b[1m152/152\u001b[0m \u001b[32m━━━━━━━━━━━━━━━━━━━━\u001b[0m\u001b[37m\u001b[0m \u001b[1m1s\u001b[0m 7ms/step - accuracy: 0.4523 - loss: 0.7002 - val_accuracy: 0.5263 - val_loss: 0.6918\n",
            "Epoch 39/50\n",
            "\u001b[1m152/152\u001b[0m \u001b[32m━━━━━━━━━━━━━━━━━━━━\u001b[0m\u001b[37m\u001b[0m \u001b[1m1s\u001b[0m 7ms/step - accuracy: 0.4875 - loss: 0.7009 - val_accuracy: 0.5263 - val_loss: 0.6918\n",
            "Epoch 40/50\n",
            "\u001b[1m152/152\u001b[0m \u001b[32m━━━━━━━━━━━━━━━━━━━━\u001b[0m\u001b[37m\u001b[0m \u001b[1m2s\u001b[0m 8ms/step - accuracy: 0.4698 - loss: 0.7025 - val_accuracy: 0.4737 - val_loss: 0.6945\n",
            "Epoch 41/50\n",
            "\u001b[1m152/152\u001b[0m \u001b[32m━━━━━━━━━━━━━━━━━━━━\u001b[0m\u001b[37m\u001b[0m \u001b[1m3s\u001b[0m 9ms/step - accuracy: 0.4544 - loss: 0.6972 - val_accuracy: 0.4737 - val_loss: 0.7158\n",
            "Epoch 42/50\n",
            "\u001b[1m152/152\u001b[0m \u001b[32m━━━━━━━━━━━━━━━━━━━━\u001b[0m\u001b[37m\u001b[0m \u001b[1m1s\u001b[0m 7ms/step - accuracy: 0.5267 - loss: 0.6977 - val_accuracy: 0.4737 - val_loss: 0.7229\n",
            "Epoch 43/50\n",
            "\u001b[1m152/152\u001b[0m \u001b[32m━━━━━━━━━━━━━━━━━━━━\u001b[0m\u001b[37m\u001b[0m \u001b[1m1s\u001b[0m 8ms/step - accuracy: 0.4702 - loss: 0.7042 - val_accuracy: 0.4737 - val_loss: 0.7114\n",
            "Epoch 44/50\n",
            "\u001b[1m152/152\u001b[0m \u001b[32m━━━━━━━━━━━━━━━━━━━━\u001b[0m\u001b[37m\u001b[0m \u001b[1m1s\u001b[0m 7ms/step - accuracy: 0.4868 - loss: 0.6988 - val_accuracy: 0.5263 - val_loss: 0.6931\n",
            "Epoch 45/50\n",
            "\u001b[1m152/152\u001b[0m \u001b[32m━━━━━━━━━━━━━━━━━━━━\u001b[0m\u001b[37m\u001b[0m \u001b[1m1s\u001b[0m 7ms/step - accuracy: 0.5097 - loss: 0.6990 - val_accuracy: 0.5263 - val_loss: 0.6954\n",
            "Epoch 46/50\n",
            "\u001b[1m152/152\u001b[0m \u001b[32m━━━━━━━━━━━━━━━━━━━━\u001b[0m\u001b[37m\u001b[0m \u001b[1m1s\u001b[0m 7ms/step - accuracy: 0.5078 - loss: 0.6987 - val_accuracy: 0.4737 - val_loss: 0.7092\n",
            "Epoch 47/50\n",
            "\u001b[1m152/152\u001b[0m \u001b[32m━━━━━━━━━━━━━━━━━━━━\u001b[0m\u001b[37m\u001b[0m \u001b[1m1s\u001b[0m 7ms/step - accuracy: 0.5189 - loss: 0.6992 - val_accuracy: 0.4737 - val_loss: 0.6949\n",
            "Epoch 48/50\n",
            "\u001b[1m152/152\u001b[0m \u001b[32m━━━━━━━━━━━━━━━━━━━━\u001b[0m\u001b[37m\u001b[0m \u001b[1m1s\u001b[0m 7ms/step - accuracy: 0.4510 - loss: 0.6967 - val_accuracy: 0.4737 - val_loss: 0.7097\n",
            "Epoch 49/50\n",
            "\u001b[1m152/152\u001b[0m \u001b[32m━━━━━━━━━━━━━━━━━━━━\u001b[0m\u001b[37m\u001b[0m \u001b[1m1s\u001b[0m 7ms/step - accuracy: 0.5119 - loss: 0.6995 - val_accuracy: 0.5263 - val_loss: 0.6921\n",
            "Epoch 50/50\n",
            "\u001b[1m152/152\u001b[0m \u001b[32m━━━━━━━━━━━━━━━━━━━━\u001b[0m\u001b[37m\u001b[0m \u001b[1m2s\u001b[0m 10ms/step - accuracy: 0.4350 - loss: 0.7077 - val_accuracy: 0.4737 - val_loss: 0.6996\n",
            "\u001b[1m6/6\u001b[0m \u001b[32m━━━━━━━━━━━━━━━━━━━━\u001b[0m\u001b[37m\u001b[0m \u001b[1m0s\u001b[0m 17ms/step - accuracy: 0.4715 - loss: 0.6999 \n",
            "Final Test Accuracy: 49.47%\n"
          ]
        }
      ]
    },
    {
      "cell_type": "code",
      "source": [
        "import matplotlib.pyplot as plt\n",
        "import numpy as np\n",
        "\n",
        "epochs = range(len(history.history['accuracy']))\n",
        "\n",
        "plt.plot(epochs, history.history['accuracy'], label='Accuracy')\n",
        "\n",
        "plt.xlabel('Epochs')\n",
        "plt.ylabel('Accuracy')\n",
        "plt.legend()\n",
        "plt.title('Model Accuracy with just ADAM')\n",
        "\n",
        "# Set y-axis to start from 0.85\n",
        "plt.ylim(0, 1.01)  # Assuming max accuracy is 1.0\n",
        "plt.xlim(-1,50)\n",
        "\n",
        "plt.show()\n"
      ],
      "metadata": {
        "colab": {
          "base_uri": "https://localhost:8080/",
          "height": 472
        },
        "id": "_ZntaHxxyxnI",
        "outputId": "a580366f-5088-45dd-a71b-fed288a56d88"
      },
      "execution_count": 48,
      "outputs": [
        {
          "output_type": "display_data",
          "data": {
            "text/plain": [
              "<Figure size 640x480 with 1 Axes>"
            ],
            "image/png": "[encoded data removed]"
          },
          "metadata": {}
        }
      ]
    },
    {
      "cell_type": "markdown",
      "source": [
        "# **USING HYRID PSO-FIREFLY OPTIMIZER**"
      ],
      "metadata": {
        "id": "_fJFwT3o2ReK"
      }
    },
    {
      "cell_type": "code",
      "source": [
        "optimizer = PSO_FA_Optimizer(population_size=10)\n",
        "optimizer.optimize(iterations=10)\n",
        "\n",
        "best_model = create_model(optimizer.global_best)\n",
        "best_model.compile(loss='binary_crossentropy', metrics=['accuracy'])\n",
        "history = best_model.fit(x_train, y_train, epochs=50, batch_size=4, validation_split=0.2)\n",
        "\n",
        "loss, acc = best_model.evaluate(x_test, y_test, verbose=1)\n",
        "print(f\"Final Test Accuracy: {acc * 100:.2f}%\")"
      ],
      "metadata": {
        "colab": {
          "base_uri": "https://localhost:8080/"
        },
        "id": "H2gi3AkgzBMw",
        "outputId": "f6f686cc-c83a-4c85-f21e-3366c84f17ce"
      },
      "execution_count": 54,
      "outputs": [
        {
          "output_type": "stream",
          "name": "stderr",
          "text": [
            "/usr/local/lib/python3.11/dist-packages/keras/src/layers/core/embedding.py:90: UserWarning: Argument `input_length` is deprecated. Just remove it.\n",
            "  warnings.warn(\n",
            "Exception ignored in: <function _xla_gc_callback at 0x7a06388f9ee0>\n",
            "Traceback (most recent call last):\n",
            "  File \"/usr/local/lib/python3.11/dist-packages/jax/_src/lib/__init__.py\", line 96, in _xla_gc_callback\n",
            "    def _xla_gc_callback(*args):\n",
            "    \n",
            "KeyboardInterrupt: \n"
          ]
        },
        {
          "output_type": "stream",
          "name": "stdout",
          "text": [
            "Iteration 1/10\n",
            "Best Fitness: 1.4459127061072286\n",
            "Iteration 2/10\n",
            "Best Fitness: 1.4462052325946886\n",
            "Iteration 3/10\n",
            "Best Fitness: 1.4462052325946886\n",
            "Iteration 4/10\n",
            "Best Fitness: 1.4462052325946886\n",
            "Iteration 5/10\n",
            "Best Fitness: 1.4462052325946886\n",
            "Iteration 6/10\n",
            "Best Fitness: 1.4462052325946886\n",
            "Iteration 7/10\n",
            "Best Fitness: 1.4462052325946886\n",
            "Iteration 8/10\n",
            "Best Fitness: 1.4462052325946886\n",
            "Iteration 9/10\n",
            "Best Fitness: 1.4462052325946886\n",
            "Iteration 10/10\n",
            "Best Fitness: 1.4462052325946886\n",
            "Epoch 1/50\n",
            "\u001b[1m152/152\u001b[0m \u001b[32m━━━━━━━━━━━━━━━━━━━━\u001b[0m\u001b[37m\u001b[0m \u001b[1m3s\u001b[0m 8ms/step - accuracy: 0.6533 - loss: 0.6384 - val_accuracy: 0.9934 - val_loss: 0.1780\n",
            "Epoch 2/50\n",
            "\u001b[1m152/152\u001b[0m \u001b[32m━━━━━━━━━━━━━━━━━━━━\u001b[0m\u001b[37m\u001b[0m \u001b[1m1s\u001b[0m 6ms/step - accuracy: 0.9722 - loss: 0.1618 - val_accuracy: 1.0000 - val_loss: 0.0150\n",
            "Epoch 3/50\n",
            "\u001b[1m152/152\u001b[0m \u001b[32m━━━━━━━━━━━━━━━━━━━━\u001b[0m\u001b[37m\u001b[0m \u001b[1m1s\u001b[0m 6ms/step - accuracy: 0.9968 - loss: 0.0265 - val_accuracy: 1.0000 - val_loss: 0.0038\n",
            "Epoch 4/50\n",
            "\u001b[1m152/152\u001b[0m \u001b[32m━━━━━━━━━━━━━━━━━━━━\u001b[0m\u001b[37m\u001b[0m \u001b[1m1s\u001b[0m 6ms/step - accuracy: 0.9996 - loss: 0.0102 - val_accuracy: 1.0000 - val_loss: 0.0018\n",
            "Epoch 5/50\n",
            "\u001b[1m152/152\u001b[0m \u001b[32m━━━━━━━━━━━━━━━━━━━━\u001b[0m\u001b[37m\u001b[0m \u001b[1m1s\u001b[0m 6ms/step - accuracy: 1.0000 - loss: 0.0042 - val_accuracy: 1.0000 - val_loss: 2.5579e-04\n",
            "Epoch 6/50\n",
            "\u001b[1m152/152\u001b[0m \u001b[32m━━━━━━━━━━━━━━━━━━━━\u001b[0m\u001b[37m\u001b[0m \u001b[1m1s\u001b[0m 6ms/step - accuracy: 1.0000 - loss: 0.0029 - val_accuracy: 1.0000 - val_loss: 4.0345e-05\n",
            "Epoch 7/50\n",
            "\u001b[1m152/152\u001b[0m \u001b[32m━━━━━━━━━━━━━━━━━━━━\u001b[0m\u001b[37m\u001b[0m \u001b[1m1s\u001b[0m 6ms/step - accuracy: 0.9938 - loss: 0.0110 - val_accuracy: 1.0000 - val_loss: 3.6508e-05\n",
            "Epoch 8/50\n",
            "\u001b[1m152/152\u001b[0m \u001b[32m━━━━━━━━━━━━━━━━━━━━\u001b[0m\u001b[37m\u001b[0m \u001b[1m1s\u001b[0m 6ms/step - accuracy: 1.0000 - loss: 0.0013 - val_accuracy: 1.0000 - val_loss: 1.2876e-05\n",
            "Epoch 9/50\n",
            "\u001b[1m152/152\u001b[0m \u001b[32m━━━━━━━━━━━━━━━━━━━━\u001b[0m\u001b[37m\u001b[0m \u001b[1m2s\u001b[0m 10ms/step - accuracy: 1.0000 - loss: 1.2066e-04 - val_accuracy: 1.0000 - val_loss: 3.8045e-06\n",
            "Epoch 10/50\n",
            "\u001b[1m152/152\u001b[0m \u001b[32m━━━━━━━━━━━━━━━━━━━━\u001b[0m\u001b[37m\u001b[0m \u001b[1m2s\u001b[0m 6ms/step - accuracy: 1.0000 - loss: 3.7541e-04 - val_accuracy: 1.0000 - val_loss: 3.2819e-06\n",
            "Epoch 11/50\n",
            "\u001b[1m152/152\u001b[0m \u001b[32m━━━━━━━━━━━━━━━━━━━━\u001b[0m\u001b[37m\u001b[0m \u001b[1m1s\u001b[0m 6ms/step - accuracy: 1.0000 - loss: 6.3937e-04 - val_accuracy: 1.0000 - val_loss: 7.8993e-07\n",
            "Epoch 12/50\n",
            "\u001b[1m152/152\u001b[0m \u001b[32m━━━━━━━━━━━━━━━━━━━━\u001b[0m\u001b[37m\u001b[0m \u001b[1m1s\u001b[0m 6ms/step - accuracy: 1.0000 - loss: 9.9493e-04 - val_accuracy: 1.0000 - val_loss: 5.5685e-06\n",
            "Epoch 13/50\n",
            "\u001b[1m152/152\u001b[0m \u001b[32m━━━━━━━━━━━━━━━━━━━━\u001b[0m\u001b[37m\u001b[0m \u001b[1m1s\u001b[0m 7ms/step - accuracy: 1.0000 - loss: 3.6846e-04 - val_accuracy: 1.0000 - val_loss: 4.9384e-07\n",
            "Epoch 14/50\n",
            "\u001b[1m152/152\u001b[0m \u001b[32m━━━━━━━━━━━━━━━━━━━━\u001b[0m\u001b[37m\u001b[0m \u001b[1m1s\u001b[0m 6ms/step - accuracy: 1.0000 - loss: 8.7322e-05 - val_accuracy: 1.0000 - val_loss: 1.3917e-07\n",
            "Epoch 15/50\n",
            "\u001b[1m152/152\u001b[0m \u001b[32m━━━━━━━━━━━━━━━━━━━━\u001b[0m\u001b[37m\u001b[0m \u001b[1m1s\u001b[0m 7ms/step - accuracy: 1.0000 - loss: 8.3998e-05 - val_accuracy: 1.0000 - val_loss: 5.6549e-08\n",
            "Epoch 16/50\n",
            "\u001b[1m152/152\u001b[0m \u001b[32m━━━━━━━━━━━━━━━━━━━━\u001b[0m\u001b[37m\u001b[0m \u001b[1m1s\u001b[0m 6ms/step - accuracy: 0.9995 - loss: 0.0014 - val_accuracy: 1.0000 - val_loss: 1.8806e-07\n",
            "Epoch 17/50\n",
            "\u001b[1m152/152\u001b[0m \u001b[32m━━━━━━━━━━━━━━━━━━━━\u001b[0m\u001b[37m\u001b[0m \u001b[1m1s\u001b[0m 6ms/step - accuracy: 1.0000 - loss: 9.2342e-05 - val_accuracy: 1.0000 - val_loss: 3.3746e-08\n",
            "Epoch 18/50\n",
            "\u001b[1m152/152\u001b[0m \u001b[32m━━━━━━━━━━━━━━━━━━━━\u001b[0m\u001b[37m\u001b[0m \u001b[1m1s\u001b[0m 6ms/step - accuracy: 1.0000 - loss: 5.0840e-05 - val_accuracy: 1.0000 - val_loss: 8.0983e-08\n",
            "Epoch 19/50\n",
            "\u001b[1m152/152\u001b[0m \u001b[32m━━━━━━━━━━━━━━━━━━━━\u001b[0m\u001b[37m\u001b[0m \u001b[1m2s\u001b[0m 11ms/step - accuracy: 1.0000 - loss: 5.7214e-06 - val_accuracy: 1.0000 - val_loss: 4.4496e-08\n",
            "Epoch 20/50\n",
            "\u001b[1m152/152\u001b[0m \u001b[32m━━━━━━━━━━━━━━━━━━━━\u001b[0m\u001b[37m\u001b[0m \u001b[1m2s\u001b[0m 6ms/step - accuracy: 1.0000 - loss: 3.2826e-04 - val_accuracy: 1.0000 - val_loss: 7.5145e-09\n",
            "Epoch 21/50\n",
            "\u001b[1m152/152\u001b[0m \u001b[32m━━━━━━━━━━━━━━━━━━━━\u001b[0m\u001b[37m\u001b[0m \u001b[1m1s\u001b[0m 6ms/step - accuracy: 1.0000 - loss: 1.0673e-04 - val_accuracy: 1.0000 - val_loss: 9.7557e-09\n",
            "Epoch 22/50\n",
            "\u001b[1m152/152\u001b[0m \u001b[32m━━━━━━━━━━━━━━━━━━━━\u001b[0m\u001b[37m\u001b[0m \u001b[1m1s\u001b[0m 6ms/step - accuracy: 1.0000 - loss: 8.9794e-05 - val_accuracy: 1.0000 - val_loss: 5.0783e-08\n",
            "Epoch 23/50\n",
            "\u001b[1m152/152\u001b[0m \u001b[32m━━━━━━━━━━━━━━━━━━━━\u001b[0m\u001b[37m\u001b[0m \u001b[1m1s\u001b[0m 6ms/step - accuracy: 1.0000 - loss: 9.8208e-05 - val_accuracy: 1.0000 - val_loss: 1.0337e-08\n",
            "Epoch 24/50\n",
            "\u001b[1m152/152\u001b[0m \u001b[32m━━━━━━━━━━━━━━━━━━━━\u001b[0m\u001b[37m\u001b[0m \u001b[1m1s\u001b[0m 6ms/step - accuracy: 1.0000 - loss: 1.2236e-04 - val_accuracy: 1.0000 - val_loss: 7.7189e-09\n",
            "Epoch 25/50\n",
            "\u001b[1m152/152\u001b[0m \u001b[32m━━━━━━━━━━━━━━━━━━━━\u001b[0m\u001b[37m\u001b[0m \u001b[1m1s\u001b[0m 6ms/step - accuracy: 1.0000 - loss: 1.0448e-05 - val_accuracy: 1.0000 - val_loss: 4.3223e-09\n",
            "Epoch 26/50\n",
            "\u001b[1m152/152\u001b[0m \u001b[32m━━━━━━━━━━━━━━━━━━━━\u001b[0m\u001b[37m\u001b[0m \u001b[1m1s\u001b[0m 6ms/step - accuracy: 1.0000 - loss: 9.6047e-06 - val_accuracy: 1.0000 - val_loss: 2.0705e-09\n",
            "Epoch 27/50\n",
            "\u001b[1m152/152\u001b[0m \u001b[32m━━━━━━━━━━━━━━━━━━━━\u001b[0m\u001b[37m\u001b[0m \u001b[1m1s\u001b[0m 6ms/step - accuracy: 1.0000 - loss: 4.0993e-04 - val_accuracy: 1.0000 - val_loss: 1.0659e-08\n",
            "Epoch 28/50\n",
            "\u001b[1m152/152\u001b[0m \u001b[32m━━━━━━━━━━━━━━━━━━━━\u001b[0m\u001b[37m\u001b[0m \u001b[1m1s\u001b[0m 6ms/step - accuracy: 1.0000 - loss: 1.8596e-05 - val_accuracy: 1.0000 - val_loss: 3.3766e-09\n",
            "Epoch 29/50\n",
            "\u001b[1m152/152\u001b[0m \u001b[32m━━━━━━━━━━━━━━━━━━━━\u001b[0m\u001b[37m\u001b[0m \u001b[1m1s\u001b[0m 9ms/step - accuracy: 1.0000 - loss: 5.9714e-05 - val_accuracy: 1.0000 - val_loss: 1.0549e-08\n",
            "Epoch 30/50\n",
            "\u001b[1m152/152\u001b[0m \u001b[32m━━━━━━━━━━━━━━━━━━━━\u001b[0m\u001b[37m\u001b[0m \u001b[1m2s\u001b[0m 10ms/step - accuracy: 1.0000 - loss: 5.6591e-05 - val_accuracy: 1.0000 - val_loss: 1.5794e-08\n",
            "Epoch 31/50\n",
            "\u001b[1m152/152\u001b[0m \u001b[32m━━━━━━━━━━━━━━━━━━━━\u001b[0m\u001b[37m\u001b[0m \u001b[1m2s\u001b[0m 6ms/step - accuracy: 1.0000 - loss: 1.7708e-04 - val_accuracy: 1.0000 - val_loss: 4.6062e-09\n",
            "Epoch 32/50\n",
            "\u001b[1m152/152\u001b[0m \u001b[32m━━━━━━━━━━━━━━━━━━━━\u001b[0m\u001b[37m\u001b[0m \u001b[1m1s\u001b[0m 6ms/step - accuracy: 1.0000 - loss: 2.3559e-05 - val_accuracy: 1.0000 - val_loss: 2.4462e-09\n",
            "Epoch 33/50\n",
            "\u001b[1m152/152\u001b[0m \u001b[32m━━━━━━━━━━━━━━━━━━━━\u001b[0m\u001b[37m\u001b[0m \u001b[1m1s\u001b[0m 6ms/step - accuracy: 1.0000 - loss: 5.3045e-06 - val_accuracy: 1.0000 - val_loss: 2.5490e-09\n",
            "Epoch 34/50\n",
            "\u001b[1m152/152\u001b[0m \u001b[32m━━━━━━━━━━━━━━━━━━━━\u001b[0m\u001b[37m\u001b[0m \u001b[1m1s\u001b[0m 6ms/step - accuracy: 1.0000 - loss: 0.0012 - val_accuracy: 1.0000 - val_loss: 7.9883e-09\n",
            "Epoch 35/50\n",
            "\u001b[1m152/152\u001b[0m \u001b[32m━━━━━━━━━━━━━━━━━━━━\u001b[0m\u001b[37m\u001b[0m \u001b[1m1s\u001b[0m 6ms/step - accuracy: 1.0000 - loss: 4.5176e-05 - val_accuracy: 1.0000 - val_loss: 1.8110e-08\n",
            "Epoch 36/50\n",
            "\u001b[1m152/152\u001b[0m \u001b[32m━━━━━━━━━━━━━━━━━━━━\u001b[0m\u001b[37m\u001b[0m \u001b[1m1s\u001b[0m 6ms/step - accuracy: 1.0000 - loss: 2.8950e-05 - val_accuracy: 1.0000 - val_loss: 3.4013e-09\n",
            "Epoch 37/50\n",
            "\u001b[1m152/152\u001b[0m \u001b[32m━━━━━━━━━━━━━━━━━━━━\u001b[0m\u001b[37m\u001b[0m \u001b[1m1s\u001b[0m 7ms/step - accuracy: 1.0000 - loss: 6.8391e-05 - val_accuracy: 1.0000 - val_loss: 4.3769e-09\n",
            "Epoch 38/50\n",
            "\u001b[1m152/152\u001b[0m \u001b[32m━━━━━━━━━━━━━━━━━━━━\u001b[0m\u001b[37m\u001b[0m \u001b[1m1s\u001b[0m 7ms/step - accuracy: 1.0000 - loss: 2.5063e-05 - val_accuracy: 1.0000 - val_loss: 3.1428e-09\n",
            "Epoch 39/50\n",
            "\u001b[1m152/152\u001b[0m \u001b[32m━━━━━━━━━━━━━━━━━━━━\u001b[0m\u001b[37m\u001b[0m \u001b[1m2s\u001b[0m 12ms/step - accuracy: 1.0000 - loss: 7.7106e-05 - val_accuracy: 1.0000 - val_loss: 2.2736e-09\n",
            "Epoch 40/50\n",
            "\u001b[1m152/152\u001b[0m \u001b[32m━━━━━━━━━━━━━━━━━━━━\u001b[0m\u001b[37m\u001b[0m \u001b[1m2s\u001b[0m 7ms/step - accuracy: 1.0000 - loss: 1.6879e-06 - val_accuracy: 1.0000 - val_loss: 1.8034e-09\n",
            "Epoch 41/50\n",
            "\u001b[1m152/152\u001b[0m \u001b[32m━━━━━━━━━━━━━━━━━━━━\u001b[0m\u001b[37m\u001b[0m \u001b[1m1s\u001b[0m 7ms/step - accuracy: 1.0000 - loss: 3.7294e-05 - val_accuracy: 1.0000 - val_loss: 2.0854e-09\n",
            "Epoch 42/50\n",
            "\u001b[1m152/152\u001b[0m \u001b[32m━━━━━━━━━━━━━━━━━━━━\u001b[0m\u001b[37m\u001b[0m \u001b[1m1s\u001b[0m 7ms/step - accuracy: 1.0000 - loss: 4.2276e-06 - val_accuracy: 1.0000 - val_loss: 1.2498e-09\n",
            "Epoch 43/50\n",
            "\u001b[1m152/152\u001b[0m \u001b[32m━━━━━━━━━━━━━━━━━━━━\u001b[0m\u001b[37m\u001b[0m \u001b[1m1s\u001b[0m 7ms/step - accuracy: 1.0000 - loss: 3.9708e-04 - val_accuracy: 1.0000 - val_loss: 2.0126e-09\n",
            "Epoch 44/50\n",
            "\u001b[1m152/152\u001b[0m \u001b[32m━━━━━━━━━━━━━━━━━━━━\u001b[0m\u001b[37m\u001b[0m \u001b[1m1s\u001b[0m 7ms/step - accuracy: 1.0000 - loss: 0.0011 - val_accuracy: 1.0000 - val_loss: 8.8288e-10\n",
            "Epoch 45/50\n",
            "\u001b[1m152/152\u001b[0m \u001b[32m━━━━━━━━━━━━━━━━━━━━\u001b[0m\u001b[37m\u001b[0m \u001b[1m1s\u001b[0m 7ms/step - accuracy: 1.0000 - loss: 1.2487e-05 - val_accuracy: 1.0000 - val_loss: 8.6739e-10\n",
            "Epoch 46/50\n",
            "\u001b[1m152/152\u001b[0m \u001b[32m━━━━━━━━━━━━━━━━━━━━\u001b[0m\u001b[37m\u001b[0m \u001b[1m1s\u001b[0m 7ms/step - accuracy: 1.0000 - loss: 3.8689e-06 - val_accuracy: 1.0000 - val_loss: 3.7494e-10\n",
            "Epoch 47/50\n",
            "\u001b[1m152/152\u001b[0m \u001b[32m━━━━━━━━━━━━━━━━━━━━\u001b[0m\u001b[37m\u001b[0m \u001b[1m1s\u001b[0m 7ms/step - accuracy: 1.0000 - loss: 2.7300e-06 - val_accuracy: 1.0000 - val_loss: 2.2198e-10\n",
            "Epoch 48/50\n",
            "\u001b[1m152/152\u001b[0m \u001b[32m━━━━━━━━━━━━━━━━━━━━\u001b[0m\u001b[37m\u001b[0m \u001b[1m1s\u001b[0m 9ms/step - accuracy: 1.0000 - loss: 1.0209e-04 - val_accuracy: 1.0000 - val_loss: 6.5405e-10\n",
            "Epoch 49/50\n",
            "\u001b[1m152/152\u001b[0m \u001b[32m━━━━━━━━━━━━━━━━━━━━\u001b[0m\u001b[37m\u001b[0m \u001b[1m2s\u001b[0m 7ms/step - accuracy: 1.0000 - loss: 4.2612e-06 - val_accuracy: 1.0000 - val_loss: 2.8343e-10\n",
            "Epoch 50/50\n",
            "\u001b[1m152/152\u001b[0m \u001b[32m━━━━━━━━━━━━━━━━━━━━\u001b[0m\u001b[37m\u001b[0m \u001b[1m1s\u001b[0m 7ms/step - accuracy: 1.0000 - loss: 2.2258e-04 - val_accuracy: 1.0000 - val_loss: 6.0131e-10\n",
            "\u001b[1m6/6\u001b[0m \u001b[32m━━━━━━━━━━━━━━━━━━━━\u001b[0m\u001b[37m\u001b[0m \u001b[1m0s\u001b[0m 9ms/step - accuracy: 1.0000 - loss: 4.6586e-07  \n",
            "Final Test Accuracy: 100.00%\n"
          ]
        }
      ]
    },
    {
      "cell_type": "code",
      "source": [
        "import matplotlib.pyplot as plt\n",
        "import numpy as np\n",
        "\n",
        "epochs = range(len(history.history['accuracy']))\n",
        "\n",
        "plt.plot(epochs, history.history['accuracy'], label='Accuracy')\n",
        "\n",
        "plt.xlabel('Epochs')\n",
        "plt.ylabel('Accuracy')\n",
        "plt.legend()\n",
        "plt.title('Model Accuracy with just ADAM')\n",
        "\n",
        "# Set y-axis to start from 0.85\n",
        "plt.ylim(0.7, 1.01)  # Assuming max accuracy is 1.0\n",
        "plt.xlim(-1,50)\n",
        "\n",
        "plt.show()\n"
      ],
      "metadata": {
        "colab": {
          "base_uri": "https://localhost:8080/",
          "height": 472
        },
        "id": "5Cw2-Zr44io9",
        "outputId": "0bb1c7f6-eba3-4a83-b4f3-493c6b252a93"
      },
      "execution_count": 56,
      "outputs": [
        {
          "output_type": "display_data",
          "data": {
            "text/plain": [
              "<Figure size 640x480 with 1 Axes>"
            ],
            "image/png": "[encoded data removed]"
          },
          "metadata": {}
        }
      ]
    }
  ]
}